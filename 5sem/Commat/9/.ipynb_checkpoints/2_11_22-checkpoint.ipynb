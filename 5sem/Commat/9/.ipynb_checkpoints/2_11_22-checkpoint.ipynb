{
 "cells": [
  {
   "cell_type": "code",
   "execution_count": 1,
   "id": "naked-question",
   "metadata": {},
   "outputs": [],
   "source": [
    "import numpy as np\n",
    "import matplotlib.pyplot as plt\n",
    "from matplotlib.colors import ListedColormap"
   ]
  },
  {
   "cell_type": "markdown",
   "id": "permanent-bowling",
   "metadata": {},
   "source": [
    "$$x^4-11x^3+9x^2+11x-10 = (x+1)(x-1)^2(x-10)$$"
   ]
  },
  {
   "cell_type": "code",
   "execution_count": 4,
   "id": "compressed-photographer",
   "metadata": {},
   "outputs": [],
   "source": [
    "colors = ['b', 'r', 'g', 'y']\n",
    "TOL = 1.e-8"
   ]
  },
  {
   "cell_type": "markdown",
   "id": "celtic-vinyl",
   "metadata": {},
   "source": [
    "Метод Ньютона-Рафсона применен к f(z):\n",
    "Возвращает найденный корень, начиная с начального предположения, z0 или False, если сходимость к допуску TOL не была достигнута в течение MAX_IT итераций."
   ]
  },
  {
   "cell_type": "code",
   "execution_count": 13,
   "id": "conventional-involvement",
   "metadata": {},
   "outputs": [],
   "source": [
    "def f(x):\n",
    "    return x**4 -11*x**3+9*x**2+11*x-10"
   ]
  },
  {
   "cell_type": "code",
   "execution_count": 14,
   "id": "quiet-symphony",
   "metadata": {},
   "outputs": [],
   "source": [
    "def fprime(x):\n",
    "    return 4*x**3-33*x**2+18*x+11"
   ]
  },
  {
   "cell_type": "code",
   "execution_count": 15,
   "id": "opened-agent",
   "metadata": {},
   "outputs": [],
   "source": [
    "def newton(z0, f, fprime, MAX_IT = 1000):\n",
    "    z = z0\n",
    "    for i in range(MAX_IT):\n",
    "        dz = f(z)/fprime(z)\n",
    "        if abs(dz) < TOL:\n",
    "            return z\n",
    "        z -= dz\n",
    "    return False"
   ]
  },
  {
   "cell_type": "markdown",
   "id": "fossil-petroleum",
   "metadata": {},
   "source": [
    "def plot_newton_fractal(f, fprime, n=200, domain=(-1, 1, -1, 1)):\n",
    "\n",
    "Постройте фрактал Ньютона, найдя корни f(z).\n",
    "Область, используемая для фрактального изображения, представляет собой область комплексной плоскости (xmin, xmax, ymin, ymax), где z = x + iy, дискретизированных на n значений вдоль каждой оси."
   ]
  },
  {
   "cell_type": "code",
   "execution_count": 32,
   "id": "separated-patent",
   "metadata": {},
   "outputs": [],
   "source": [
    "def plot_newton_fractal(f, fprime, n = 50, domain = (-10, 10, -10, 10)):\n",
    "\n",
    "    roots = []\n",
    "    m = np.zeros((n, n))\n",
    "\n",
    "    def get_root_index(roots, r):\n",
    "        try:\n",
    "            return np.where(np.isclose(roots, r, atol=TOL))[0][0]\n",
    "        except IndexError:\n",
    "            roots.append(r)\n",
    "            return len(roots) - 1\n",
    "\n",
    "    xmin, xmax, ymin, ymax = domain\n",
    "    \n",
    "    count = 0\n",
    "    count_max_root = 0\n",
    "    for ix, x in enumerate(np.linspace(xmin, xmax, n)):\n",
    "        for iy, y in enumerate(np.linspace(ymin, ymax, n)):\n",
    "            z0 = x + y*1j\n",
    "            if x**2+y**2 <= 100:\n",
    "                count += 1\n",
    "                r = newton(z0, f, fprime)\n",
    "                if r is not False:\n",
    "                    ir = get_root_index(roots, r)\n",
    "                    m[iy, ix] = ir    \n",
    "                    if (ir == 2):\n",
    "                        count_max_root +\n",
    "                \n",
    "    nroots = len(roots)\n",
    "    \n",
    "    if nroots > len(colors):               # Используйте «непрерывную» палитру, если корней слишком много.\n",
    "        cmap = 'hsv'\n",
    "    else:                                  # Используйте список цветов для палитры: по одному для каждого корня.\n",
    "        cmap = ListedColormap(colors[:nroots])\n",
    "        \n",
    "    print(roots)    \n",
    "    plt.imshow(m, cmap = cmap, origin = 'lower')\n",
    "    plt.axis('off')\n",
    "    plt.show()"
   ]
  },
  {
   "cell_type": "code",
   "execution_count": 33,
   "id": "tender-student",
   "metadata": {},
   "outputs": [
    {
     "name": "stdout",
     "output_type": "stream",
     "text": [
      "[(-0.9999999999914146+2.2391026495628035e-11j), (0.9999999939393761-1.7820748927898396e-08j), (9.999999999996643+1.2545512916650812e-11j)]\n"
     ]
    },
    {
     "data": {
      "image/png": "[encoded data removed]",
      "text/plain": [
       "<Figure size 432x288 with 1 Axes>"
      ]
     },
     "metadata": {
      "needs_background": "light"
     },
     "output_type": "display_data"
    },
    {
     "name": "stdout",
     "output_type": "stream",
     "text": [
      "None\n"
     ]
    }
   ],
   "source": [
    "f = lambda x: x**4 -11*x**3+9*x**2+11*x-10\n",
    "fprime = lambda x: 4*x**3-33*x**2+18*x+11\n",
    "\n",
    "print(plot_newton_fractal(f, fprime, n = 500))"
   ]
  },
  {
   "cell_type": "code",
   "execution_count": null,
   "id": "structural-segment",
   "metadata": {},
   "outputs": [],
   "source": []
  }
 ],
 "metadata": {
  "kernelspec": {
   "display_name": "Python 3 (ipykernel)",
   "language": "python",
   "name": "python3"
  },
  "language_info": {
   "codemirror_mode": {
    "name": "ipython",
    "version": 3
   },
   "file_extension": ".py",
   "mimetype": "text/x-python",
   "name": "python",
   "nbconvert_exporter": "python",
   "pygments_lexer": "ipython3",
   "version": "3.9.12"
  }
 },
 "nbformat": 4,
 "nbformat_minor": 5
}
