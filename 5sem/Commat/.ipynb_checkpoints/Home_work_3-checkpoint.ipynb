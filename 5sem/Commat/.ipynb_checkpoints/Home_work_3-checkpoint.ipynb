{
 "cells": [
  {
   "cell_type": "code",
   "execution_count": 808,
   "metadata": {},
   "outputs": [],
   "source": [
    "import numpy as np\n",
    "import matplotlib.pyplot as plt\n",
    "import time\n",
    "from mpl_toolkits.mplot3d import Axes3D \n",
    "import matplotlib.colors as colors\n",
    "%matplotlib inline"
   ]
  },
  {
   "cell_type": "markdown",
   "metadata": {},
   "source": [
    "# Задача 1.  Генератор матриц"
   ]
  },
  {
   "cell_type": "markdown",
   "metadata": {
    "id": "19smb2owQS40"
   },
   "source": [
    "Реализовать генератор матрциц, который должен поддерживать функции:\n",
    "* Генерация абсолютно случайной матрицы $n\\times m$ (none)\n",
    "* Генерация случайной диагональной матрицы $n\\times n$ (diagonal)\n",
    "* Генерация случайной верхнетреугольной матрицы (upper triangular)\n",
    "* Генерация случайной нижнетреугольной матрицы (lower triangular)\n",
    "* Генерация симметричной матрицы (symmetric)\n",
    "* Генерация вырожденной матрицы (degenerate)\n",
    "* Генерация матрицы ступенчатого вида $n\\times n$ ранга $m$ (step)\n",
    "* Генерация возмущения матрицы $n\\times m$, каждый элемент которой не превосходит по модулю заданный $\\varepsilon$ (perturbation)\n",
    "\n",
    "Оценить вероятность того, что созданная матрица будет вырожденной. \n",
    "\n",
    "Оценить величину нормы матрицы возмущений в зависимости от параметра $\\varepsilon$ (оценить верхную границу).\n"
   ]
  },
  {
   "cell_type": "markdown",
   "metadata": {},
   "source": [
    "$ \\large\\text{Решение:} $"
   ]
  },
  {
   "cell_type": "code",
   "execution_count": 809,
   "metadata": {},
   "outputs": [
    {
     "data": {
      "text/plain": [
       "array([[ 8.,  2.,  7.,  1.],\n",
       "       [ 2.,  2.,  4.,  2.],\n",
       "       [10.,  3.,  3.,  2.],\n",
       "       [ 8., 10.,  4.,  9.]])"
      ]
     },
     "execution_count": 809,
     "metadata": {},
     "output_type": "execute_result"
    }
   ],
   "source": [
    "def none(n, m, order, round):\n",
    "    if round == None:\n",
    "        return (10**order)*np.random.random((n, m))\n",
    "    else:\n",
    "        return ((10**order)*np.random.random((n, m))).round(round)\n",
    "\n",
    "F = none(n = 4, m = 4, order = 1, round = 0)\n",
    "F"
   ]
  },
  {
   "cell_type": "code",
   "execution_count": 810,
   "metadata": {},
   "outputs": [
    {
     "name": "stdout",
     "output_type": "stream",
     "text": [
      "[[0.87043027 0.         0.         0.        ]\n",
      " [0.         0.68432802 0.         0.        ]\n",
      " [0.         0.         0.80737725 0.        ]\n",
      " [0.         0.         0.         0.73334347]]\n"
     ]
    }
   ],
   "source": [
    "def diagonal(n):\n",
    "    d = np.random.random(n)\n",
    "    A = np.zeros((n, n))\n",
    "    for i in range(n):\n",
    "        A[i][i] = d[i]\n",
    "    return A\n",
    "A = diagonal(4)\n",
    "print(A)"
   ]
  },
  {
   "cell_type": "code",
   "execution_count": 811,
   "metadata": {},
   "outputs": [
    {
     "name": "stdout",
     "output_type": "stream",
     "text": [
      "[[0.67899352 0.2389496  0.56502693 0.07740969]\n",
      " [0.         0.65825547 0.80124367 0.50698829]\n",
      " [0.         0.         0.96230496 0.867896  ]\n",
      " [0.         0.         0.         0.15567106]]\n"
     ]
    }
   ],
   "source": [
    "def upper_triangular(n):\n",
    "    A = np.random.random((n, n))\n",
    "    e = np.triu(np.ones((n, n)))\n",
    "    return A*e\n",
    "\n",
    "A = upper_triangular(4)\n",
    "print(A)"
   ]
  },
  {
   "cell_type": "code",
   "execution_count": 812,
   "metadata": {},
   "outputs": [
    {
     "name": "stdout",
     "output_type": "stream",
     "text": [
      "[[0.9971281  0.         0.         0.        ]\n",
      " [0.42011395 0.64732985 0.         0.        ]\n",
      " [0.70671701 0.43383664 0.81960554 0.        ]\n",
      " [0.42993603 0.83734282 0.43169792 0.1006339 ]]\n"
     ]
    }
   ],
   "source": [
    "def lower_triangular(n):\n",
    "    A = np.random.random((n, n))\n",
    "    e = np.tril(np.ones((n, n)))\n",
    "    return A*e\n",
    "\n",
    "A = lower_triangular(4)\n",
    "print(A)"
   ]
  },
  {
   "cell_type": "code",
   "execution_count": 813,
   "metadata": {},
   "outputs": [
    {
     "name": "stdout",
     "output_type": "stream",
     "text": [
      "[[6. 4. 5. 6.]\n",
      " [4. 2. 1. 8.]\n",
      " [5. 1. 1. 6.]\n",
      " [6. 8. 6. 3.]]\n"
     ]
    }
   ],
   "source": [
    "def symmetric(n):\n",
    "    A = np.random.random((n, n))\n",
    "    return (A+A.T)/2\n",
    "\n",
    "A = 10*symmetric(4).round(1)\n",
    "print(A)"
   ]
  },
  {
   "cell_type": "code",
   "execution_count": 814,
   "metadata": {},
   "outputs": [
    {
     "name": "stdout",
     "output_type": "stream",
     "text": [
      "det(A) =  0.0\n",
      "[[0.46263545 0.88301963 0.79688529 0.68072897]\n",
      " [0.46263545 0.88301963 0.79688529 0.68072897]\n",
      " [0.40451371 0.24732724 0.92591618 0.59993213]\n",
      " [0.72313527 0.05392489 0.86137441 0.2021334 ]]\n"
     ]
    }
   ],
   "source": [
    "def degenerate(n):\n",
    "    A = np.random.random((n, n))\n",
    "    i = np.random.randint(1, n)\n",
    "    A[i] = A[0]/i\n",
    "    return A\n",
    "\n",
    "A = degenerate(4)\n",
    "print('det(A) = ', np.linalg.det(A))\n",
    "print(A)"
   ]
  },
  {
   "cell_type": "code",
   "execution_count": 815,
   "metadata": {},
   "outputs": [
    {
     "name": "stdout",
     "output_type": "stream",
     "text": [
      "rank: 3\n",
      "[[0.36527556 0.97951875 0.81674374 2.45023122]\n",
      " [0.         0.73210795 0.50428558 1.51285674]\n",
      " [0.         0.         0.90029442 2.70088327]\n",
      " [0.         0.         0.         0.        ]]\n"
     ]
    }
   ],
   "source": [
    "def step(n, m):\n",
    "    A = np.triu(np.random.random((n,n)))\n",
    "    for j in range(n-m):\n",
    "        A[:, m+j] = A[:, m-1]*(m+j)\n",
    "    return A\n",
    "\n",
    "A = step(4, 3)\n",
    "print('rank:', np.linalg.matrix_rank(A))\n",
    "print(A)"
   ]
  },
  {
   "cell_type": "code",
   "execution_count": 816,
   "metadata": {},
   "outputs": [
    {
     "name": "stdout",
     "output_type": "stream",
     "text": [
      "[[4.96224523e-13 5.27310999e-13 1.80349776e-13]\n",
      " [3.24865605e-13 2.12102241e-13 4.29967408e-13]\n",
      " [6.37890577e-13 1.42108030e-13 3.94575388e-13]\n",
      " [5.46598076e-13 7.97749668e-13 6.22449483e-13]]\n"
     ]
    }
   ],
   "source": [
    "def perturbation(n, m, eps):\n",
    "    A = np.random.random((n,m))\n",
    "    return A*eps\n",
    "\n",
    "A = perturbation(4, 3, 1e-12)\n",
    "print(A)"
   ]
  },
  {
   "cell_type": "markdown",
   "metadata": {},
   "source": [
    "1. Оценим вероятность того, что созданная матрица возмущений будет вырожденной: ыыыыыы"
   ]
  },
  {
   "cell_type": "markdown",
   "metadata": {},
   "source": [
    "2. Оценим величину нормы матрицы возмущений в зависимости от параметра $\\varepsilon$ (оценив верхную границу):\n",
    "\n",
    "Известно, что $|a_{ij}| \\leq \\varepsilon $. Тогда для первой нормы получаем:\n",
    "$$\\|A(\\varepsilon)\\|_1 = \\max\\limits_{j}\\sum\\limits_{i = 1}^{n}|a_{ij}| \\leq \\max\\limits_{j}\\sum\\limits_{i = 1}^{n}\\varepsilon = n\\cdot \\varepsilon $$\n",
    "\n",
    "Для бесконечной нормы: \n",
    "$$\\|A(\\varepsilon)\\|_{\\infty} = \\max\\limits_{i}\\sum\\limits_{j = 1}^{m}|a_{ij}| \\leq \\max\\limits_{i}\\sum\\limits_{j = 1}^{m}\\varepsilon = m\\cdot \\varepsilon $$"
   ]
  },
  {
   "cell_type": "markdown",
   "metadata": {
    "id": "sS3EHa1aKmJi"
   },
   "source": [
    "# Задача 2. Эквивалентность первых двух норм.\n"
   ]
  },
  {
   "cell_type": "markdown",
   "metadata": {
    "id": "nMUUtmljQZO1"
   },
   "source": [
    "Найдите константы $C_1$  и  $C_2$ такие, что\n",
    "\n",
    "$\\ C_1||\\mathbf{x}||_2\\leq||\\mathbf{x}||_1\\leq C_2||\\mathbf{x}||_2$ \n",
    "\n",
    "\n",
    "Указание: в качестве подсказки можно использовать визуализацию норм из документа с теорией. "
   ]
  },
  {
   "cell_type": "markdown",
   "metadata": {},
   "source": [
    "$ \\large\\text{Решение:} $"
   ]
  },
  {
   "cell_type": "markdown",
   "metadata": {},
   "source": [
    "$\\|\\mathbf{x}\\|_1 =\\sum\\limits_{i = 1}^{n} |x_i| $\n",
    "\n",
    "$\\|\\mathbf{x}\\|_2 = \\sqrt{\\sum\\limits_{i = 1}^{n}x_i^2}$\n",
    "\n",
    "Из дополнительных материалов (Избранные задачи МГУ векторные и матричные нормы пособие):\n",
    "\n",
    "1. $ \\sqrt{\\sum\\limits_{i = 1}^{n}x_i^2} \\leq \\bigg(\\sum\\limits_{i = 1}^{n} |x_i|\\bigg) ^2 \\implies \\|\\mathbf{x}\\|_2 \\leq  \\|\\mathbf{x}\\|_1 \\implies C_1 = 1 $ \n",
    "2. По неравенству Коши-Буняковского: \n",
    "$ \\bigg(\\sum\\limits_{i = 1}^{n} a_i b_i\\bigg)^2 \\leq \\sum\\limits_{i = 1}^{n} a_i^2 \\cdot \\sum\\limits_{i = 1}^{n} b_i^2$\n",
    "\n",
    "$\\hspace{0.5cm}$ \n",
    "$ \\|\\mathbf{x}\\|_1 = \\sum\\limits_{i = 1}^{n} |x_i| \\leq \\sqrt{\\sum\\limits_{i = 1}^{n} 1} \\cdot \\sqrt{\\sum\\limits_{i = 1}^{n} x_{i}^2} = \\sqrt{n} \\cdot \\sqrt{\\sum\\limits_{i = 1}^{n} x_{i}^2} = \\sqrt{n} \\cdot \\|\\mathbf{x}\\|_2 \\implies \\|\\mathbf{x}\\|_1 \\leq \\sqrt{n} \\cdot \\|\\mathbf{x}\\|_2 \\implies C_2 = \\sqrt{n} $"
   ]
  },
  {
   "cell_type": "markdown",
   "metadata": {},
   "source": [
    "$\\large\\text{Ответ:}$ $\\hspace{1cm}$ $\\|\\mathbf{x}\\|_2 \\leq \\|\\mathbf{x}\\|_1 \\leq \\sqrt{n} \\cdot \\|\\mathbf{x}\\|_2 $"
   ]
  },
  {
   "cell_type": "markdown",
   "metadata": {
    "id": "gpR6GBRtKmXq"
   },
   "source": [
    "# Задача 3.  Евклидова и бесконечная норма."
   ]
  },
  {
   "cell_type": "markdown",
   "metadata": {
    "id": "xQ7BfspuTsOt"
   },
   "source": [
    "] Пусть x — вектор размерности m, а A — матрица m×n. Докажите следующие неравенства и приведите\n",
    "примеры таких x и A, при которых неравенства обращаются в равенства: \n",
    "\n",
    "- $\\|x\\|_2 \\leq \\sqrt{m}\\|x\\|_{\\infty}$\n",
    "- $\\|A\\|_{\\infty} \\leq \\sqrt{n}\\|A\\|_2$"
   ]
  },
  {
   "cell_type": "markdown",
   "metadata": {},
   "source": [
    "$ \\large\\text{Решение:} $"
   ]
  },
  {
   "cell_type": "markdown",
   "metadata": {},
   "source": [
    "1) $\\|\\mathbf{x}\\|_2 = \\sqrt{\\sum\\limits_{i = 1}^{m}x_i^2} = \\sqrt{x_1^2+x_2^2+\\dotsc+x_m^2} \\leq \\sqrt{x_{max}^2+x_{max}^2+\\dotsc+x_{max}^2}= \\sqrt{m\\cdot x_{max}^2} = \\sqrt{m}\\cdot |x_{max}| = \\sqrt{m}\\cdot \\max\\limits_{i}|x_i| = \\sqrt{m}\\cdot\\ \\|\\mathbf{x}\\|_{\\infty} \\hspace{0.5cm} ч.т.д $\n",
    "\n",
    "Неравенство обращается в равенство, если все элементы вектора $\\mathbf{x}$ равны по модулю друг другу\n",
    "\n",
    "2) Матричная норма $\\|A\\|_{k}$ является подчинённой векторной норме $\\|\\mathbf{x}\\|_{k}$. Поэтому справедливо: $ \\|A\\|_{k} = \\max\\limits_{x\\neq0}\\frac{\\|Ax\\|_{k}}{\\|x\\|_{k}} $\n",
    "\n",
    "Так же для векторных норм известно соотношение эквивалентности: $ \\|x\\|_{\\infty} \\leq \\|x\\|_2  \\leq \\sqrt{n} \\cdot \\|x\\|_{\\infty} \\hspace{0.5cm} \\implies \\hspace{0.5cm}  \\frac{1}{\\sqrt{n}}\\|x\\|_2 \\leq  \\|x\\|_{\\infty}$\n",
    "\n",
    "$$ \\frac{1}{\\frac{1}{\\sqrt{n}} \\|x\\|_2} \\geq  \\frac{1}{\\|x\\|_{\\infty}} \\hspace{0.5cm} \\implies \\hspace{0.5cm}\\frac{1}{\\|x\\|_{\\infty}} \\leq \\frac{1}{\\frac{1}{\\sqrt{n}} \\|x\\|_2}$$ \n",
    "\n",
    "Получаем:\n",
    "$$ \\|A\\|_{\\infty} = \\max_{x\\neq0} \\frac{\\|Ax\\|_{\\infty}}{\\|x\\|_{\\infty}} \\leq \\max_{x\\neq 0}\\frac{\\| Ax\\|_2}{\\frac{1} {\\sqrt{n}} \\|x\\| _2} = \\sqrt{n} \\max_{x\\neq 0}\\frac{\\| Ax \\|_2}{\\| x \\| _2} = \\sqrt{n} \\cdot \\|A \\|_2 \\hspace{0.5cm} ч.т.д $$\n",
    "\n",
    "Найдём такие $A$, при которых неравентсво обращается в равенство: $$ \\|A\\|_{\\infty} = \\sqrt{n} \\cdot \\|A \\|_2$$\n",
    "\n",
    "$$ \\max\\limits_{i} \\displaystyle\\sum_{j=1}^{n} |a_{ij}|= \\sqrt{n\\cdot \\lambda_{max}(A^*A)}$$\n",
    "\n",
    "Рассмотрим для квадратной матрицы $n = 2$:\n",
    "\n",
    "$$A= \\begin{pmatrix}\n",
    "  x & a \\\\\n",
    "  b & c\\\\\n",
    " \\end{pmatrix}$$\n",
    "\n",
    " Считаем спектральную норму:\n",
    "\n",
    " $$A^{T}A = \\begin{pmatrix}\n",
    "  x & b \\\\\n",
    "  a & c\\\\\n",
    " \\end{pmatrix}\\begin{pmatrix}\n",
    "  x & a \\\\\n",
    "  b & c\\\\\n",
    " \\end{pmatrix} = \\begin{pmatrix}\n",
    "  x^2+a^2 & xa+cb \\\\\n",
    "  xa+cb  & b^2+c^2\\\\\n",
    " \\end{pmatrix} \\implies det \\begin{pmatrix}\n",
    "  x^2+a^2-\\lambda & xa+cb \\\\\n",
    "  xa+cb & b^2+c^2-\\lambda\\\\\n",
    " \\end{pmatrix} = 0 $$"
   ]
  },
  {
   "cell_type": "markdown",
   "metadata": {},
   "source": [
    " $$(x^2+b^2-\\lambda)(a^2+c^2-\\lambda) = 2(xa+cb)$$\n",
    "\n",
    " $$\\lambda^2 - (x^2+a^2+b^2+c^2)\\lambda+(x^2+b^2)(a^2+c^2)-2(xa+cb) = 0$$\n",
    "\n",
    " $$\\lambda_{1,2} = \\frac{x^2+a^2+b^2+c^2 \\pm \\sqrt{(x^2+a^2+b^2+c^2)^2-4(x^2+b^2)(a^2+c^2)+8(xa+cb)}}{2}$$\n",
    "\n",
    " Очевидно, что $\\lambda_{max}$ будет с положительным корнем. Допустим, что $|b|+|c| \\leq |x|+|a|$. Тогда равенство для норм будет записано как:\n",
    "\n",
    " $$|x|+|a| = \\sqrt{2} \\cdot \\sqrt{\\frac{x^2+a^2+b^2+c^2 + \\sqrt{(x^2+a^2+b^2+c^2)^2-4(x^2+b^2)(a^2+c^2)+8(xa+cb)}}{2}}$$\n",
    " \n",
    " Выглядит страшно, но можно вбить эту штуку в Desmos(https://www.desmos.com/Calculator/o8o6sh1v6i?lang=ru/) (да хранят его боги) и подобрать целочисленные параметры.\n",
    " Получаем, например:\n",
    " \n",
    "$$ A = \\begin{pmatrix}\n",
    "  -1 & 1 \\\\\n",
    "  1 & 1\\\\\n",
    " \\end{pmatrix},  \\begin{pmatrix}\n",
    "  1 & -1 \\\\\n",
    "  -1 & -1\\\\\n",
    " \\end{pmatrix}, \\begin{pmatrix}\n",
    "  -1 & -1 \\\\\n",
    "  1 & - 1\\\\\n",
    " \\end{pmatrix}, \\begin{pmatrix}\n",
    "  0 & 1 \\\\\n",
    "  0 & 0\\\\\n",
    " \\end{pmatrix}, \\dotsc$$\n",
    " \n",
    " Проверим для первой матрицы: \n",
    "$$\\|A\\|_{\\infty} = \\max\\limits_{i} \\displaystyle\\sum_{j=1}^{n} |a_{ij}| = 2$$\n",
    "\n",
    "$$\\|A \\|_2 = \\sqrt{\\lambda_{max}(A^*A)} = \\sqrt{\\frac{4+ \\sqrt{(16-4\\cdot 2 \\cdot 2 +8 (1-1)}}{2}} = \\sqrt{2} $$ \n",
    "\n",
    "$$2 = \\|A\\|_{\\infty} = \\sqrt{n} \\cdot \\|A \\|_2 = \\sqrt{2} \\cdot \\sqrt{2} = 2$$"
   ]
  },
  {
   "cell_type": "markdown",
   "metadata": {
    "id": "8-476ZEtKmk5"
   },
   "source": [
    "# Задача 4. Норма Фробениуса."
   ]
  },
  {
   "cell_type": "markdown",
   "metadata": {
    "id": "xzG3RPf-T07c"
   },
   "source": [
    "Докажите, что для любой унитарной матрицы U (и для произвольной матрицы A) имеет место равенство\n",
    "\n",
    " $\\|UA\\|_F = \\|AU\\|_F = \\|A\\|_F$ , где $\\| \\|_F$ — норма Фробениуса.\n",
    "\n",
    "Указание.  \n",
    "Задачу можно решить без вычислений, если использовать геометрический смысл нормы Фробениуса и геометрические свойства умножения на унитарную матрицу (что при умножении на неё сохраняется). "
   ]
  },
  {
   "cell_type": "markdown",
   "metadata": {},
   "source": [
    "$ \\large\\text{Решение:} $"
   ]
  },
  {
   "cell_type": "markdown",
   "metadata": {},
   "source": [
    "1. Унитарная матрица - квадратная матрица $U^*$, $u_{ij} \\in C$, такая что $U^*U = UU^* = I$ или $U^{-1}=U^*$. Эрмитово-сопряженная матрица $A^*$ получается из матрицы $A$ транспонированием и заменой всех $a_{ij}$ на комплексно-сопряженные\n",
    "\n",
    "Унитарная матрица представляет преобразование, переводящее ортонормированный базис комплексного векторного пространства размерности, соответствующей её размеру, в ортонормированный базис. (Это верно для любого ортонормированного базиса).\n",
    "\n",
    "Это эквивалентно утверждению, что преобразование, представляемое унитарной матрицей, сохраняет скалярное произведение (а потому и длины всех векторов)."
   ]
  },
  {
   "cell_type": "markdown",
   "metadata": {},
   "source": [
    "2. Геометрический смысл нормы Фробениуса - длина вектора, состоящего из сумм элементов строк или столбцов матрицы. Умножение матрицы на ортогональную (или унитарную) не меняет её нормы Фробениуса, так как унитарная матрица сохраняет длины всех векторов."
   ]
  },
  {
   "cell_type": "markdown",
   "metadata": {
    "id": "s8jGlqhJKmpB"
   },
   "source": [
    "# Задача 5. Тензорная свёртка. "
   ]
  },
  {
   "cell_type": "markdown",
   "metadata": {
    "id": "smdRrcYuT4he"
   },
   "source": [
    "Рассмотрим функцию, отображающую шесть тензоров на один тензор: $Z\\left(\\lambda^{(1)}, \\lambda^{(2)}, \\lambda^{(3)}, \\Gamma^{(1)}, \\Gamma^{(2)}, U\\right)$ :\n",
    "\n",
    "\n",
    "$$\n",
    "Z_{a h i j}=\\sum_{b c d e f g} \\lambda^{(1)}{ }_{a b} \\Gamma_{c b d}^{(1)} \\lambda^{(2)}{ }_{d e} \\Gamma_{f e g}^{(2)} \\lambda_{g h}^{(3)} U_{i j c f}\n",
    "$$ \n",
    "\n",
    "редположив, что все индексы пробегают значения от 1 до χ, проведите эксперимент и сравните скорость\n",
    "различных реализаций функции Z. Исследуйте значения χ в диапазоне 3–50. \n",
    "\n",
    "\n",
    "- В файле convolution. ipynb вы можете найти релизацию глупого способа вычисления этой свертки, который требует $\\chi^4 \\times \\chi^6=\\chi^{10}$ операций. На самом деле это можно вычислить гораздо быстрее!\n",
    "- С помощью функции numpy . einsum (нужно использовать аргумент optimize), можно добиться намного большей производительности. Чтобы понять, что происходит под капотом, воспользуйтесь функцией numpy.einsum_path. Какое минимальное количество операций требуется для вычисления $Z$ ?\n",
    "- Посмотрев на вывод функции numpy.einsum_path, peализуйте алгоритм для вычисления $Z$, который столь же эффективен, как numpy.einsum, но использует более элементарные numpy.dot и numpy.tensor_dot."
   ]
  },
  {
   "cell_type": "markdown",
   "metadata": {},
   "source": [
    "$ \\large\\text{Решение:} $"
   ]
  },
  {
   "cell_type": "markdown",
   "metadata": {},
   "source": [
    "### 1. Сгенерируем данные:"
   ]
  },
  {
   "cell_type": "code",
   "execution_count": 817,
   "metadata": {},
   "outputs": [],
   "source": [
    "c = 2"
   ]
  },
  {
   "cell_type": "code",
   "execution_count": 818,
   "metadata": {},
   "outputs": [],
   "source": [
    "np.random.seed(42)\n",
    "lambda1 = np.random.normal(size = (c,c))\n",
    "lambda2 = np.random.normal(size = (c,c))\n",
    "lambda3 = np.random.normal(size = (c,c))\n",
    "G1 = np.random.normal(size = (c,c,c))\n",
    "G2 = np.random.normal(size = (c,c,c))\n",
    "U = np.random.normal(size = (c,c,c,c))"
   ]
  },
  {
   "cell_type": "markdown",
   "metadata": {},
   "source": [
    "### 2. Затестим предложенные функции"
   ]
  },
  {
   "cell_type": "markdown",
   "metadata": {},
   "source": [
    "numpy.einsum('список индексов для каждого массива', массив_1, массив_2, ..., доп.функции) и numpy.einsum_path()"
   ]
  },
  {
   "cell_type": "code",
   "execution_count": 819,
   "metadata": {},
   "outputs": [
    {
     "name": "stdout",
     "output_type": "stream",
     "text": [
      "['einsum_path', (0, 1), (0, 1), (0, 3), (1, 2), (0, 1)]\n",
      "\n",
      "\n",
      "  Complete contraction:  ab,cbd,de,feg,gh,ijcf->ahij\n",
      "         Naive scaling:  10\n",
      "     Optimized scaling:  6\n",
      "      Naive FLOP count:  6.144e+03\n",
      "  Optimized FLOP count:  2.890e+02\n",
      "   Theoretical speedup:  21.260\n",
      "  Largest intermediate:  1.600e+01 elements\n",
      "--------------------------------------------------------------------------\n",
      "scaling                  current                                remaining\n",
      "--------------------------------------------------------------------------\n",
      "   4                 cbd,ab->acd                 de,feg,gh,ijcf,acd->ahij\n",
      "   4                 feg,de->dfg                    gh,ijcf,acd,dfg->ahij\n",
      "   4                 dfg,gh->dfh                       ijcf,acd,dfh->ahij\n",
      "   5               dfh,acd->acfh                          ijcf,acfh->ahij\n",
      "   6             acfh,ijcf->ahij                               ahij->ahij\n"
     ]
    }
   ],
   "source": [
    "path_info = np.einsum_path('ab, cbd, de, feg, gh, ijcf -> ahij', lambda1, G1, lambda2, G2, lambda3, U, optimize = 'optimal')\n",
    "\n",
    "print(path_info[0])\n",
    "print('\\n')\n",
    "print(path_info[1])\n",
    "#np.einsum()"
   ]
  },
  {
   "cell_type": "markdown",
   "metadata": {},
   "source": [
    "Отсюда видим, что минимальное количество операций для вычисления $Z$: $\\hspace{1cm}$ $3\\chi^4+\\chi^5+\\chi^6$"
   ]
  },
  {
   "cell_type": "code",
   "execution_count": 820,
   "metadata": {},
   "outputs": [
    {
     "name": "stdout",
     "output_type": "stream",
     "text": [
      "[[[[ 0.51635176  0.15851965]\n",
      "   [ 1.45638228  0.12000385]]\n",
      "\n",
      "  [[-0.6591665   0.15556924]\n",
      "   [-3.76263861 -1.11413039]]]\n",
      "\n",
      "\n",
      " [[[-2.49554094  2.79927385]\n",
      "   [ 0.68750516  0.70898808]]\n",
      "\n",
      "  [[ 6.40550969 -6.43352493]\n",
      "   [ 0.25556611 -2.20816812]]]]\n"
     ]
    }
   ],
   "source": [
    "einsum = np.einsum('ab, cbd, de, feg, gh, ijcf -> ahij', lambda1, G1, lambda2, G2, lambda3, U, optimize = 'optimal')\n",
    "print(einsum)"
   ]
  },
  {
   "cell_type": "markdown",
   "metadata": {},
   "source": [
    "### 3. Напишем свою прогу для вычисления свертки, используя данные из np.einsum_path():"
   ]
  },
  {
   "cell_type": "markdown",
   "metadata": {},
   "source": [
    "$1: \\{\\lambda_{ab}^1 \\hspace{0.2cm} Г_{cbd}^1\\} \\hspace{0.2cm} \\lambda_{de}^2 \\hspace{0.2cm} Г_{feg}^2 \\hspace{0.4cm} \\lambda_{gh}^3 \\hspace{0.4cm} U_{ijcf}$\n",
    "\n",
    "$\\hspace{1.4cm}\\downarrow$\n",
    "\n",
    "$2: \\hspace{0.6cm} T_{acd}^1 \\hspace{0.55cm}  \\{\\lambda_{de}^2 \\hspace{0.2cm}  Г_{feg}^2\\} \\hspace{0.2cm}  \\lambda_{gh}^3 \\hspace{0.4cm}  U_{ijcf}$\n",
    "\n",
    "$\\hspace{3.3cm}\\downarrow$\n",
    "\n",
    "$3: \\hspace{0.6cm} T_{acd}^1 \\hspace{1.1cm}  \\{T_{dfg}^2 \\hspace{0.5cm}  \\lambda_{gh}^3\\} \\hspace{0.2cm}  U_{ijcf}$\n",
    "\n",
    "$\\hspace{4.1cm}\\downarrow$\n",
    "\n",
    "$4: \\hspace{0.5cm} \\{T_{acd}^1 \\hspace{1.9cm}  T_{dfh}^3\\} \\hspace{0.6cm}  U_{ijcf}$\n",
    "\n",
    "$\\hspace{2.8cm}\\downarrow$\n",
    "\n",
    "$5: \\hspace{2cm}T_{acfh}^4 \\hspace{2cm}  U_{ijcf}$\n",
    "\n",
    "$6: \\hspace{3.5cm}Z_{ahij}$"
   ]
  },
  {
   "cell_type": "markdown",
   "metadata": {},
   "source": [
    "Как работает нумпаевская тензорная свертка:\n",
    "\n",
    "$A_{{a_0}{a_1}...{a_n}}, B_{{b_0}{b_1}...{b_n}}$\n",
    "\n",
    "$T$ = np.tensordot($A$, $B$, axes = ([$i$],[$j$])  ), где $i, j$ - номер компонент, по которым хотим сворачивать"
   ]
  },
  {
   "cell_type": "code",
   "execution_count": 821,
   "metadata": {},
   "outputs": [
    {
     "name": "stdout",
     "output_type": "stream",
     "text": [
      "True\n"
     ]
    }
   ],
   "source": [
    "T1 = np.tensordot(lambda1, G1, axes = ([1], [1]))\n",
    "test1 = np.einsum('ab, cbd -> acd', lambda1, G1, optimize='greedy') #проверяем, чтобы не накосячить\n",
    "\n",
    "T2 = np.tensordot(lambda2, G2, axes = ([1], [1]))\n",
    "test2 = np.einsum('de, feg -> dfg', lambda2, G2, optimize='greedy')\n",
    "\n",
    "T3 = np.tensordot(T2, lambda3, axes = ([2], [0]))\n",
    "test3 = np.einsum('dfg, gh -> dfh', T2, lambda3, optimize='greedy')\n",
    "\n",
    "T4 = np.tensordot(T1, T3, axes = ([2], [0]))\n",
    "test4 = np.einsum('acd, dfh -> acfh', T1, T3, optimize='greedy')\n",
    "\n",
    "Z = np.tensordot(T4, U, axes = ([1,2],[2,3]))\n",
    "test5 = np.einsum('acfh, ijcf -> ahij', T4, U, optimize='greedy')\n",
    "print(np.array_equal(Z, test5, equal_nan = False))"
   ]
  },
  {
   "cell_type": "markdown",
   "metadata": {},
   "source": [
    "### 4. Сравним время выполнения программ (из пункта 2 и пункта 3):"
   ]
  },
  {
   "cell_type": "code",
   "execution_count": 822,
   "metadata": {},
   "outputs": [],
   "source": [
    "c = 50\n",
    "\n",
    "np.random.seed(42)\n",
    "lambda1 = np.random.normal(size = (c,c))\n",
    "lambda2 = np.random.normal(size = (c,c))\n",
    "lambda3 = np.random.normal(size = (c,c))\n",
    "G1 = np.random.normal(size = (c,c,c))\n",
    "G2 = np.random.normal(size = (c,c,c))\n",
    "U = np.random.normal(size = (c,c,c,c))\n",
    "\n",
    "def time_counter(n):\n",
    "    \n",
    "    dtime1 = np.zeros((n-2, ))\n",
    "    dtime2 = np.zeros((n-2, ))\n",
    "    \n",
    "    count = np.arange(3, n+1, 1)\n",
    "\n",
    "    for i in count:\n",
    "        \n",
    "        l1 = lambda1[:i, :i]\n",
    "        l2 = lambda2[:i, :i]\n",
    "        l3 = lambda3[:i, :i]\n",
    "        g1 = G1[:i, :i, :i]\n",
    "        g2 = G2[:i, :i, :i]\n",
    "        u = U[:i, :i, :i, :i]\n",
    "          \n",
    "        tik = time.perf_counter()\n",
    "        np.einsum('ab, cbd, de, feg, gh, ijcf -> ahij', l1, g1, l2, g2, l3, u, optimize = 'optimal')\n",
    "        dtime1[i-3] = time.perf_counter() - tik\n",
    "        \n",
    "        \n",
    "        tak = time.perf_counter()\n",
    "        \n",
    "        t1 = np.tensordot(l1, g1, axes = ([1], [1]))\n",
    "        t2 = np.tensordot(l2, g2, axes = ([1], [1]))\n",
    "        t3 = np.tensordot(t2, l3, axes = ([2], [0]))\n",
    "        t4 = np.tensordot(t1, t3, axes = ([2], [0]))\n",
    "        z = np.tensordot(t4, u, axes = ([1,2],[2,3]))\n",
    "        \n",
    "        dtime2[i-3] = time.perf_counter() - tak\n",
    "        \n",
    "    return dtime1, dtime2, count    "
   ]
  },
  {
   "cell_type": "code",
   "execution_count": 823,
   "metadata": {},
   "outputs": [],
   "source": [
    "test_time = time_counter(50)"
   ]
  },
  {
   "cell_type": "code",
   "execution_count": 824,
   "metadata": {},
   "outputs": [
    {
     "data": {
      "image/png": "[encoded data removed]",
      "text/plain": [
       "<Figure size 576x360 with 1 Axes>"
      ]
     },
     "metadata": {
      "needs_background": "light"
     },
     "output_type": "display_data"
    }
   ],
   "source": [
    "plt.figure(figsize = (8,5))\n",
    "\n",
    "plt.plot(test_time[2], test_time[0], '-', label = 'np.einsum()')\n",
    "plt.plot(test_time[2], test_time[1], '.', c = 'green', label = 'np.tensordot()')\n",
    "plt.legend(loc='best')\n",
    "plt.xlabel('n')\n",
    "plt.ylabel('time')\n",
    "\n",
    "plt.show()"
   ]
  },
  {
   "cell_type": "markdown",
   "metadata": {},
   "source": [
    "Итого, мы видим, что время выполнения обеих программ примерно одинаково, ура"
   ]
  },
  {
   "cell_type": "markdown",
   "metadata": {
    "id": "634QUTkyKnWR"
   },
   "source": [
    "# Задача 6.  k-means clustering. "
   ]
  },
  {
   "cell_type": "markdown",
   "metadata": {
    "id": "8gHzjikte83x"
   },
   "source": [
    "Выбор метрики (нормы разницы между любыми двумя векторами, или функции расстояния между любой парой точек) очень важен для многих алгоритмов машинного обучения. Рассмотрим на примере задачи кластеризации. \n",
    "\n",
    "$\\bf{Кластеризация}$ — это разделение множества входных векторов на группы (кластеры) по степени «схожести» друг с другом.\n",
    "\n",
    "Кластеризация в Data Mining приобретает ценность тогда, когда она выступает одним из этапов анализа данных, построения законченного аналитического решения. Аналитику часто легче выделить группы схожих объектов, изучить их особенности и построить для каждой группы отдельную модель, чем создавать одну общую модель для всех данных. Таким приемом постоянно пользуются в маркетинге, выделяя группы клиентов, покупателей, товаров и разрабатывая для каждой из них отдельную стратегию.\n",
    "\n",
    "\n",
    "$\\bf{Евклидова~метрика}$ — наиболее распространенная. Она является геометрическим расстоянием в многомерном пространстве.\n",
    "\n",
    "$d_2({\\vec {x}} ,{\\vec {y}}) = \\sqrt{\\sum\\limits_{i = 1}^{n}(x_i-y_i)^2}$\n",
    "\n",
    "$\\bf{Квадрат~евклидовой~метрики}$ \n",
    "\n",
    "\n",
    "Иногда может возникнуть желание возвести в квадрат стандартное евклидово расстояние, чтобы придать большие веса более отдаленным друг от друга объектам.\n",
    "\n",
    "\n",
    "$\\bf{Метрика~городских~кварталов~(манхэттенская)}$ \n",
    "\n",
    "\n",
    "Это расстояние является суммой модулей разностей координат. В большинстве случаев эта метрика приводит к таким же результатам, как и для обычного расстояния Евклида. Однако отметим, что для этой меры влияние отдельных больших разностей (выбросов) уменьшается (так как они не возводятся в квадрат).\n",
    "\n",
    "$d_1({\\vec {x}} ,{\\vec {y}}) =\\sum\\limits_{i = 1}^{n} |x_i-y_i| $\n",
    "\n",
    "$\\bf{Расстояние~Чебышева}$ \n",
    "\n",
    "Это метрика шахматной доски (Расстоянием Чебышёва между n-мерными числовыми векторами называется максимум модуля разности компонент этих векторов). Это расстояние может оказаться полезным, когда желают определить два объекта как «различные», если они различаются по какой-либо одной координате (каким-либо одним измерением).\n",
    "\n",
    "Расстояние Чебышёва называют также метрикой Чебышёва, равномерной метрикой, sup-метрикой и бокс-метрикой; также иногда она называется метрикой решётки, метрикой шахматной доски, метрикой хода короля и 8-метрикой.\n",
    "\n",
    "${\\displaystyle l_{\\infty }({\\vec {x}},{\\vec {y}})=\\max _{i=1,\\dots ,n}|x_{i}-y_{i}|}$\n",
    "\n",
    "$\\bf{Степенная~метрика}$ \n",
    "\n",
    "Иногда желают прогрессивно увеличить или уменьшить вес, относящийся к размерности, для которой соответствующие объекты сильно отличаются. Это может быть достигнуто с использованием степенного расстояния.\n",
    "\n",
    "\n",
    "Выбор метрики (критерия схожести) лежит полностью на исследователе. При выборе различных мер результаты кластеризации могут существенно отличаться.\n",
    "\n",
    "$\\bf{Алгоритм~k-means~(k-средних)}$ \n",
    "\n",
    "Наиболее простой, но в то же время достаточно неточный метод кластеризации в классической реализации. Он разбивает множество элементов векторного пространства на заранее известное число кластеров k. Действие алгоритма таково, что он стремится минимизировать среднеквадратичное отклонение на точках каждого кластера. Основная идея заключается в том, что на каждой итерации перевычисляется центр масс для каждого кластера, полученного на предыдущем шаге, затем векторы разбиваются на кластеры вновь в соответствии с тем, какой из новых центров оказался ближе по выбранной метрике. Алгоритм завершается, когда на какой-то итерации не происходит изменения кластеров.\n",
    "\n",
    "${\\displaystyle V=\\sum _{i=1}^{k}\\sum _{x\\in S_{i}}(x-\\mu _{i})^{2}}$,\n",
    "$ где~{\\displaystyle k} — число~кластеров,~{\\displaystyle S_{i}} — полученные~кластеры,~{\\displaystyle i=1,2,\\dots ,k},~а~{\\displaystyle \\mu _{i}}— центры~масс~всех~векторов~{\\displaystyle x}~из~кластера~{\\displaystyle S_{i}}$\n",
    "\n",
    "\n",
    "\n",
    "Проблемы алгоритма k-means:\n",
    "* необходимо заранее знать количество кластеров. Мной было предложено метод определения количества кластеров, который основывался на нахождении кластеров, распределенных по некоему закону (в моем случае все сводилось к нормальному закону). После этого выполнялся классический алгоритм k-means, который давал более точные результаты.\n",
    "* алгоритм очень чувствителен к выбору начальных центров кластеров. Классический вариант подразумевает случайный выбор класторов, что очень часто являлось источником погрешности. Как вариант решения, необходимо проводить исследования объекта для более точного определения центров начальных кластеров. В моем случае на начальном этапе предлагается принимать в качестве центов самые отдаленные точки кластеров.\n",
    "* не справляется с задачей, когда объект принадлежит к разным кластерам в равной степени или не принадлежит ни одному.\n",
    "\n",
    "\n",
    "В блокноте kmeans.ipynb вы можете найти наивную реализацию.\n",
    "Изучите код, убедитесь, что вы его поняли. Вы найдете там две функции dist_i и dist_ij, которые (намеренно) реализованы довольно неэффективно. Улучшите их, избавившись от циклов с помощью векторизации из numpy, и измерьте ускорение алгоритма в целом при N = 10000.\n",
    "\n",
    "\n",
    "\n",
    "\n",
    "\n",
    "\n"
   ]
  },
  {
   "cell_type": "markdown",
   "metadata": {},
   "source": [
    "$ \\large\\text{Решение:} $"
   ]
  },
  {
   "cell_type": "markdown",
   "metadata": {},
   "source": [
    "### 1. Посмотрим, как работает предложенный алгоритм:"
   ]
  },
  {
   "cell_type": "code",
   "execution_count": 825,
   "metadata": {},
   "outputs": [],
   "source": [
    "def scatter_plot(data, col = None):\n",
    "    fig = plt.figure()\n",
    "    ax = fig.add_subplot(111, projection = '3d')\n",
    "    ax.scatter(data[:,0], data[:,1], data[:,2], s = 0.5, color = col)\n",
    "    plt.show()"
   ]
  },
  {
   "cell_type": "code",
   "execution_count": 826,
   "metadata": {},
   "outputs": [],
   "source": [
    "N = 1000\n",
    "K = 3\n",
    "d = 3\n",
    "L = 10"
   ]
  },
  {
   "cell_type": "code",
   "execution_count": 827,
   "metadata": {},
   "outputs": [
    {
     "name": "stdout",
     "output_type": "stream",
     "text": [
      "3000\n"
     ]
    }
   ],
   "source": [
    "# Generate some data\n",
    "np.random.seed(42)\n",
    "mu_true = np.random.uniform(-L, L, size = (K, d))\n",
    "data = np.random.normal(mu_true, size = (N, K, d))\n",
    "data = np.vstack(data) #объединяет массивы\n",
    "np.random.shuffle(data) #случайная перестановка по первой оси\n",
    "print(data.shape[0])"
   ]
  },
  {
   "cell_type": "code",
   "execution_count": 828,
   "metadata": {},
   "outputs": [
    {
     "data": {
      "image/png": "[encoded data removed]",
      "text/plain": [
       "<Figure size 432x288 with 1 Axes>"
      ]
     },
     "metadata": {
      "needs_background": "light"
     },
     "output_type": "display_data"
    }
   ],
   "source": [
    "if d == 3:\n",
    "    scatter_plot(data, None)"
   ]
  },
  {
   "cell_type": "code",
   "execution_count": 829,
   "metadata": {},
   "outputs": [],
   "source": [
    "massiv = np.random.choice(range(data.shape[0]), K, replace = False) #выбор K-штук случайных чисел из массива длиной 3000 без повторений\n",
    "mu = data[massiv]                                                   #выдаёт трехмерные координаты трёх разных случайных точек\n",
    "c = np.random.randint(low = 0, high = K-1, size = data.shape[0])    #массив случайных 0 и 1 длиной 3000"
   ]
  },
  {
   "cell_type": "code",
   "execution_count": 830,
   "metadata": {},
   "outputs": [],
   "source": [
    "def dist_i(x, mu):\n",
    "    dist = np.zeros(x.shape[0])\n",
    "    for i in range(x.shape[0]):\n",
    "        dist[i] = np.sum((x[i] - mu[i])**2) #\n",
    "    return dist\n",
    "\n",
    "def dist_ij(x, mu):\n",
    "    dist = np.zeros((x.shape[0], mu.shape[0]))\n",
    "    for i in range(x.shape[0]):                     \n",
    "        for j in range(mu.shape[0]):                    \n",
    "            dist[i, j] += np.sum((x[i] - mu[j])**2)\n",
    "    return dist"
   ]
  },
  {
   "cell_type": "markdown",
   "metadata": {},
   "source": [
    "Пытаемся разобраться, как работают функции:"
   ]
  },
  {
   "cell_type": "code",
   "execution_count": 831,
   "metadata": {},
   "outputs": [
    {
     "name": "stdout",
     "output_type": "stream",
     "text": [
      "Функцию можно заменить строчкой кода: True\n"
     ]
    }
   ],
   "source": [
    "w = dist_ij(data, mu)\n",
    "#print(w)\n",
    "\n",
    "c =  np.argmin(w, axis = 1) #индекс минимального значения по строкам \n",
    "                            #(выбор одного из трех центров кластеров), \n",
    "                            #массив указателей на самый близкий центр кластера\n",
    "#print('\\n', c)\n",
    "#print('координаты самых близких к выбранной точке центров кластеров', mu[c])\n",
    "\n",
    "f = dist_i(data, mu[c]) #расстояние между точкой и выбранным для нее ближайшим центром кластера\n",
    "#print('\\n', f)\n",
    "\n",
    "f_new = w[range(N*d), c] #функцию dist_i(x, mu) можно замменить одной этой строчкой, пруфы внизу\n",
    "#print('\\n',s)\n",
    "\n",
    "print('Функцию можно заменить строчкой кода:', np.array_equal(f, f_new, equal_nan = False)) #пруфы"
   ]
  },
  {
   "cell_type": "markdown",
   "metadata": {},
   "source": [
    "$\\bf{dist_i(x, mu)}$:\n",
    "* принимает - x: 3000 точек, mu: координаты самых близких к выбранной точке центров кластеров (массив 3000 строк, 3 столбца)\n",
    "* выдаёт - $D_{i}$, квадрат расстояния между точками выбранной точной x[i] и самым близким к ней центром кластера mu[i]\n",
    "\n",
    "$\\bf{dist_ij(x, mu)}$:\n",
    "* принимает - x: N точек, mu: K центров кластеров (для трёх центров кластеров)\n",
    "* выдаёт - $D_{ij}$ (3000 строк, 3 столбца), квадрат расстояния между точками x[i] и mu[j] (квадрат расстояния каждой точки до выбранных 3х центров кластеров)"
   ]
  },
  {
   "cell_type": "code",
   "execution_count": 832,
   "metadata": {},
   "outputs": [],
   "source": [
    "ss_list = []\n",
    "\n",
    "for n in range(10):\n",
    "    \n",
    "    c =  np.argmin(dist_ij(data, mu), axis = 1)\n",
    "    ss = np.mean(dist_i(data, mu[c]))\n",
    "    ss_list.append(ss)                             #для 10 массивов из лучших расстрояний от точки до ближайшего кандидата центра кластера\n",
    "    \n",
    "    for i in range(K):                             #для 3 центров кластеров\n",
    "        \n",
    "        cluster_members = data[c == i]                     #отбираем для каждого кластера точки, принадлежащие ему   \n",
    "        cluster_members = cluster_members.mean(axis = 0)   #вычисляет среднее столбцов (среднее по каждым из трёх осей)\n",
    "        mu[i] = cluster_members                            #вау, это и есть координаты следующего кандидата в центр кластера"
   ]
  },
  {
   "cell_type": "code",
   "execution_count": 833,
   "metadata": {},
   "outputs": [
    {
     "data": {
      "text/plain": [
       "[<matplotlib.lines.Line2D at 0x201816f40d0>]"
      ]
     },
     "execution_count": 833,
     "metadata": {},
     "output_type": "execute_result"
    },
    {
     "data": {
      "image/png": "[encoded data removed]",
      "text/plain": [
       "<Figure size 432x288 with 1 Axes>"
      ]
     },
     "metadata": {
      "needs_background": "light"
     },
     "output_type": "display_data"
    }
   ],
   "source": [
    "plt.plot(ss_list)"
   ]
  },
  {
   "cell_type": "code",
   "execution_count": 834,
   "metadata": {},
   "outputs": [],
   "source": [
    "colors = np.array([plt.cm.cool(i/(K+2)) for i in range(K)])\n",
    "\n",
    "#colors = np.array([[0.99, 0.91, 0.06, 0.01],\n",
    "                   #[1, 0.45882, 0.09412, 0.01],\n",
    "                   #[0.69804, 0.13333, 0.13333, 0.01]])"
   ]
  },
  {
   "cell_type": "code",
   "execution_count": 835,
   "metadata": {},
   "outputs": [
    {
     "data": {
      "image/png": "[encoded data removed]",
      "text/plain": [
       "<Figure size 432x288 with 1 Axes>"
      ]
     },
     "metadata": {
      "needs_background": "light"
     },
     "output_type": "display_data"
    }
   ],
   "source": [
    "if d == 3:\n",
    "    scatter_plot(data, colors[c])"
   ]
  },
  {
   "cell_type": "markdown",
   "metadata": {},
   "source": [
    "### 2. Напишем свой:"
   ]
  },
  {
   "cell_type": "code",
   "execution_count": 836,
   "metadata": {},
   "outputs": [],
   "source": [
    "def dist_ij(x, mu):\n",
    "    dist = np.zeros((x.shape[0], mu.shape[0]))\n",
    "    for i in range(x.shape[0]):                     \n",
    "        for j in range(mu.shape[0]):                    \n",
    "            dist[i, j] += np.sum((x[i] - mu[j])**2)\n",
    "    return dist"
   ]
  },
  {
   "cell_type": "code",
   "execution_count": 837,
   "metadata": {},
   "outputs": [],
   "source": [
    "def dist_ij_new(x, mu):\n",
    "    dist = x[:,:]*0\n",
    "    dist[:, 0] = np.sum((x[:, :]-mu[0, :])**2, axis = 1) #axis = 1 - сумма элементов в строках\n",
    "    dist[:, 1] = np.sum((x[:, :]-mu[1, :])**2, axis = 1)\n",
    "    dist[:, 2] = np.sum((x[:, :]-mu[2, :])**2, axis = 1)\n",
    "    return dist"
   ]
  },
  {
   "cell_type": "code",
   "execution_count": 838,
   "metadata": {},
   "outputs": [
    {
     "name": "stdout",
     "output_type": "stream",
     "text": [
      "Новая функция выдает такой же результат, что и старая: True\n"
     ]
    }
   ],
   "source": [
    "f_new = dist_ij_new(data, mu)\n",
    "f_old = dist_ij(data, mu)\n",
    "print('Новая функция выдает такой же результат, что и старая:', np.array_equal(f_new, f_old, equal_nan = False))"
   ]
  },
  {
   "cell_type": "markdown",
   "metadata": {},
   "source": [
    "### 3. Проверим время выполнения программ:"
   ]
  },
  {
   "cell_type": "code",
   "execution_count": 839,
   "metadata": {},
   "outputs": [],
   "source": [
    "def clustering_old(data, mu):\n",
    "    \n",
    "    ss_list = []\n",
    "\n",
    "    for n in range(10):\n",
    "        c =  np.argmin(dist_ij(data, mu), axis = 1)\n",
    "        ss = np.mean(dist_i(data, mu[c]))\n",
    "        ss_list.append(ss)\n",
    "    \n",
    "        for i in range(K):\n",
    "            cluster_members = data[c == i]\n",
    "            cluster_members = cluster_members.mean(axis = 0)\n",
    "            mu[i] = cluster_members  \n",
    "            \n",
    "    return data, mu, ss_list"
   ]
  },
  {
   "cell_type": "code",
   "execution_count": 840,
   "metadata": {},
   "outputs": [],
   "source": [
    "def clustering_new(data, mu):\n",
    "    \n",
    "    ss_list = []\n",
    "\n",
    "    for n in range(10):\n",
    "        distance = dist_ij_new(data, mu)\n",
    "        c =  np.argmin(distance, axis = 1)\n",
    "        ss = np.mean(distance[range(N*d), c])\n",
    "        ss_list.append(ss)                             #для 10 массивов из лучших расстрояний от точки до ближайшего кандидата центра кластера\n",
    "    \n",
    "        for i in range(K):                             #для 3 центров кластеров\n",
    "            cluster_members = data[c == i]                     #отбираем для каждого кластера точки, принадлежащие ему   \n",
    "            cluster_members = cluster_members.mean(axis = 0)   #вычисляет среднее столбцов (среднее по каждым из трёх осей)\n",
    "            mu[i] = cluster_members \n",
    "            \n",
    "    return data, mu, ss_list"
   ]
  },
  {
   "cell_type": "code",
   "execution_count": 841,
   "metadata": {},
   "outputs": [
    {
     "name": "stdout",
     "output_type": "stream",
     "text": [
      "30000\n"
     ]
    }
   ],
   "source": [
    "N = 10000\n",
    "K = 3\n",
    "d = 3\n",
    "L = 10\n",
    "\n",
    "np.random.seed(42)\n",
    "mu_true = np.random.uniform(-L, L, size = (K, d))\n",
    "data = np.random.normal(mu_true, size = (N, K, d))\n",
    "data = np.vstack(data) #объединяет массивы\n",
    "np.random.shuffle(data) #случайная перестановка по первой оси\n",
    "print(data.shape[0])"
   ]
  },
  {
   "cell_type": "code",
   "execution_count": 842,
   "metadata": {},
   "outputs": [
    {
     "name": "stdout",
     "output_type": "stream",
     "text": [
      "Wall time: 119 ms\n"
     ]
    }
   ],
   "source": [
    "%%time\n",
    "f_new = clustering_new(data, mu)"
   ]
  },
  {
   "cell_type": "code",
   "execution_count": 843,
   "metadata": {},
   "outputs": [
    {
     "name": "stdout",
     "output_type": "stream",
     "text": [
      "Wall time: 9.73 s\n"
     ]
    }
   ],
   "source": [
    "%%time\n",
    "f_old = clustering_old(data, mu)"
   ]
  },
  {
   "cell_type": "code",
   "execution_count": 844,
   "metadata": {},
   "outputs": [
    {
     "name": "stdout",
     "output_type": "stream",
     "text": [
      "Новая функция выдает такой же результат, что и старая: True\n"
     ]
    }
   ],
   "source": [
    "print('Новая функция выдает такой же результат, что и старая:', np.array_equal(f_new[0], f_old[0], equal_nan = False))"
   ]
  },
  {
   "cell_type": "code",
   "execution_count": 846,
   "metadata": {},
   "outputs": [
    {
     "name": "stdout",
     "output_type": "stream",
     "text": [
      "0.01223021582733813\n"
     ]
    }
   ],
   "source": [
    "t1 = 119 * 10**(-3)\n",
    "t2 = 9.73\n",
    "print(t1/t2)"
   ]
  },
  {
   "cell_type": "markdown",
   "metadata": {},
   "source": [
    "$\\large\\text{Ответ:}$ $\\hspace{1cm}$ итог - новая функция ситает почти в 100 раз быстрее, чем старая"
   ]
  },
  {
   "cell_type": "markdown",
   "metadata": {
    "id": "gKnAIng1T-Ex"
   },
   "source": [
    "# Дополнительное задание. Нечеткий алгоритм кластеризации с-means.\n"
   ]
  },
  {
   "cell_type": "markdown",
   "metadata": {
    "id": "umU-jwFAT7nj"
   },
   "source": [
    "С последней проблемой k-means успешно справляется алгоритм с-means. Вместо однозначного ответа на вопрос к какому кластеру относится объект, он определяет вероятность того, что объект принадлежит к тому или иному кластеру. Таким образом, утверждение «объект А принадлежит к кластеру 1 с вероятностью 90%, к кластеру 2 — 10% » верно и более удобно.\n",
    "\n",
    "Остальные проблемы у с-means такие же, как у k-means, но они нивелируются благодаря нечеткости разбиения.\n",
    "\n",
    "Метод нечеткой кластеризации C-средних имеет ограниченное применение из-за существенного недостатка — невозможность корректного разбиения на кластеры, в случае когда кластеры имеют различную дисперсию по различным размерностям (осям) элементов (например, кластер имеет форму эллипса). Данный недостаток устранен в алгоритмах Mixture models и GMM (Gaussian mixture models). \n",
    "\n",
    "\n",
    "Документация методов кластеризации для sklearn есть здесь https://scikit-learn.org/stable/modules/clustering.html#k-means . \n",
    "\n",
    "\n",
    "\n",
    "Используя библиотеку scikit-learn, реализуйте Gaussian mixture models и обычный k-means.  Подберите такой набор данных, на котором первый метод справляется хорошо, а второй метод даёт плохие результаты, и продемонстрируйте это. Сделайте это для нескольких разных метрик и сравните результаты между собой.\n",
    "\n",
    "https://scikit-learn.ru/example/  примеры подобного.\n",
    "\n",
    "https://neurohive.io/ru/osnovy-data-science/vvedenie-v-scikit-learn/  введение в sklearn. На этом сайте много полезных статей и ссылок на курсы. "
   ]
  }
 ],
 "metadata": {
  "colab": {
   "collapsed_sections": [
    "MeXTSdSfKdL2",
    "sS3EHa1aKmJi",
    "gpR6GBRtKmXq",
    "8-476ZEtKmk5",
    "s8jGlqhJKmpB",
    "634QUTkyKnWR",
    "gKnAIng1T-Ex"
   ],
   "provenance": [],
   "toc_visible": true
  },
  "kernelspec": {
   "display_name": "Python 3 (ipykernel)",
   "language": "python",
   "name": "python3"
  },
  "language_info": {
   "codemirror_mode": {
    "name": "ipython",
    "version": 3
   },
   "file_extension": ".py",
   "mimetype": "text/x-python",
   "name": "python",
   "nbconvert_exporter": "python",
   "pygments_lexer": "ipython3",
   "version": "3.9.12"
  }
 },
 "nbformat": 4,
 "nbformat_minor": 4
}
